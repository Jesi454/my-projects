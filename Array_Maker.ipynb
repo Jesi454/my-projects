{
  "nbformat": 4,
  "nbformat_minor": 0,
  "metadata": {
    "colab": {
      "name": "Array Maker",
      "provenance": [],
      "authorship_tag": "ABX9TyMVSI68ldh90zLJgi4987BZ",
      "include_colab_link": true
    },
    "kernelspec": {
      "name": "python3",
      "display_name": "Python 3"
    },
    "language_info": {
      "name": "python"
    }
  },
  "cells": [
    {
      "cell_type": "markdown",
      "metadata": {
        "id": "view-in-github",
        "colab_type": "text"
      },
      "source": [
        "<a href=\"https://colab.research.google.com/github/Jesi454/my-projects/blob/main/Array_Maker.ipynb\" target=\"_parent\"><img src=\"https://colab.research.google.com/assets/colab-badge.svg\" alt=\"Open In Colab\"/></a>"
      ]
    },
    {
      "cell_type": "code",
      "execution_count": 23,
      "metadata": {
        "id": "xw6IymG_hLsX",
        "colab": {
          "base_uri": "https://localhost:8080/"
        },
        "outputId": "1ee6bdd7-0c85-478f-a47f-14cacc1261ce"
      },
      "outputs": [
        {
          "output_type": "stream",
          "name": "stdout",
          "text": [
            "Enter array name: Temp\n",
            "Enter array length: 5\n",
            "Enter 1 for Letters, Entter 0 for Numbers: 0\n",
            "Enter data: 1\n",
            "Enter data: 2\n",
            "Enter data: 3\n",
            "Enter data: 4\n",
            "Enter data: 5\n",
            "Temp = [1,2,3,4,5]\n"
          ]
        }
      ],
      "source": [
        "def defineArray(goodVariableName):\n",
        "  #gets array name\n",
        "  goodVariableName = input(\"Enter array name: \")\n",
        "  #Creates start of array\n",
        "  goodVariableName += \" = [\"\n",
        "  #Gets array length\n",
        "  length = input(\"Enter array length: \")\n",
        "  while not length.isnumeric():\n",
        "    print(\"Enter a number!\")\n",
        "    length = input(\"Enter array length: \")\n",
        "  length = int(length)\n",
        "  #Gets if the array will be numbers or strings\n",
        "  typeChoice = input(\"Enter 1 for Letters, Entter 0 for Numbers: \")\n",
        "  typeChoice = int(typeChoice)\n",
        "  if not ((typeChoice == 0) or (typeChoice == 1)):\n",
        "    print(\"Enter 1 or 0\")\n",
        "    typeChoice = input(\"Enter 1 for Letters, Entter 0 for Numbers: \")\n",
        "    typeChoice = int(typeChoice)\n",
        "    \n",
        "  return goodVariableName, length, typeChoice\n",
        "\n",
        "def finishedArrayLetters(goodVariableName, length):\n",
        "  #Gets data from user\n",
        "  for i in range(length):\n",
        "    data = input(\"Enter data: \")\n",
        "    if i == (length - 1):\n",
        "      goodVariableName += '\"' + data + '\"'\n",
        "    else:\n",
        "      goodVariableName += '\"' + data + '\",'\n",
        "  goodVariableName += \"]\"\n",
        "  return goodVariableName\n",
        "\n",
        "def finishedArrayNums(goodVariableName, length):\n",
        "  #Gets the data from user\n",
        "  for i in range(length):\n",
        "    data = input(\"Enter data: \")\n",
        "\n",
        "    while not data.isnumeric():\n",
        "      print(\"Enter a number!\")\n",
        "      data = input(\"Enter data: \")\n",
        "    data = str(data)\n",
        "    if i == (length - 1):\n",
        "      goodVariableName += data\n",
        "    else:\n",
        "      goodVariableName += data + \",\"\n",
        "\n",
        "  goodVariableName += \"]\"\n",
        "  return goodVariableName\n",
        "\n",
        "def finalArray(temp):\n",
        "  data = temp[0]\n",
        "  length = temp[1]\n",
        "  typeChoice = temp[2]\n",
        "\n",
        "  #Finishs array\n",
        "  if typeChoice == 1:\n",
        "    finalArray = finishedArrayLetters(data,length)\n",
        "  elif typeChoice == 0:\n",
        "    finalArray = finishedArrayNums(data,length)\n",
        "\n",
        "  return finalArray\n",
        "\n",
        "\n",
        "print(finalArray(defineArray(\"\")))"
      ]
    }
  ]
}